{
 "cells": [
  {
   "cell_type": "code",
   "execution_count": 1,
   "metadata": {},
   "outputs": [],
   "source": [
    "import pandas as pd\n",
    "from sklearn.ensemble import RandomForestRegressor\n",
    "from sklearn.metrics import mean_absolute_error, r2_score, root_mean_squared_error\n",
    "from sklearn.model_selection import train_test_split, RandomizedSearchCV\n",
    "from sklearn.preprocessing import MultiLabelBinarizer, LabelEncoder\n",
    "import matplotlib.pyplot as plt\n",
    "import numpy as np\n",
    "import seaborn as sns"
   ]
  },
  {
   "cell_type": "code",
   "execution_count": 2,
   "metadata": {},
   "outputs": [],
   "source": [
    "df = pd.read_csv('../../data/preprocessed/main-data.csv') \n",
    "\n",
    "le = LabelEncoder()\n",
    "df['day'] = le.fit_transform(df['day'])\n",
    "\n",
    "df.drop(['category_names','packet_date'], axis=1, inplace=True)\n",
    "\n",
    "df['is_vip'] = df['is_vip'].astype(int)\n",
    "\n",
    "# Define features and target variable\n",
    "X = df[df.columns.difference(['collection_duration'])]\n",
    "y = df['collection_duration']"
   ]
  },
  {
   "cell_type": "code",
   "execution_count": 3,
   "metadata": {},
   "outputs": [],
   "source": [
    "# Function to evaluate Random Forest model\n",
    "def RandomForest_evaluate(X_train, X_test, y_train, y_test):\n",
    "    # Define hyperparameter grid\n",
    "    parameters = {\n",
    "        'n_estimators': [100, 200, 300],\n",
    "        'max_depth': [5, 7, 10, 15, 20, 25, 30],\n",
    "        'min_samples_split': [2, 3, 5],\n",
    "        'min_samples_leaf': [1, 2, 4],\n",
    "        'max_features': ['sqrt', 'log2'],\n",
    "    }\n",
    "\n",
    "    # Initialize the model\n",
    "    model = RandomForestRegressor(random_state=42)\n",
    "\n",
    "    # Randomized search for hyperparameter tuning\n",
    "    grid_model = RandomizedSearchCV(model, parameters, n_iter=10, scoring='neg_mean_absolute_error', n_jobs=-1, cv=5, verbose=0)\n",
    "    grid_model.fit(X_train, y_train)\n",
    "\n",
    "    # Get the best estimator\n",
    "    best_model = grid_model.best_estimator_\n",
    "\n",
    "    # Make predictions\n",
    "    predictions = best_model.predict(X_test)\n",
    "\n",
    "    # Evaluate predictions\n",
    "    rmse = root_mean_squared_error(y_test, predictions)\n",
    "    mae = mean_absolute_error(y_test, predictions)\n",
    "    rsquared = r2_score(y_test, predictions)\n",
    "    p_accuracy = [(1 - np.abs(pred - actual) / actual) * 100 for pred, actual in zip(predictions, y_test)]\n",
    "\n",
    "    return rmse, mae, rsquared, p_accuracy, best_model, grid_model.best_params_"
   ]
  },
  {
   "cell_type": "code",
   "execution_count": 4,
   "metadata": {},
   "outputs": [],
   "source": [
    "# Defining the features to be used for training\n",
    "feature_combinations = [\n",
    "    df.columns.difference(['collection_duration', 'day', 'year', 'month', 'hour']),\n",
    "    df.columns.difference(['collection_duration', 'day', 'year', 'month', 'hour', 'unique_category_count']),\n",
    "    df.columns.difference(['collection_duration', 'day', 'year', 'month', 'hour', 'unique_category_count', 'average_collection_time']),\n",
    "    df.columns.difference(['collection_duration', 'day', 'year', 'month', 'hour', 'average_collection_time']),\n",
    "    df.columns.difference(['collection_duration', 'unique_category_count', 'average_collection_time']),\n",
    "    df.columns.difference(['collection_duration', 'unique_category_count']),\n",
    "    df.columns.difference(['collection_duration', 'average_collection_time']),\n",
    "    df.columns.difference(['collection_duration']),\n",
    "]"
   ]
  },
  {
   "cell_type": "code",
   "execution_count": 5,
   "metadata": {},
   "outputs": [
    {
     "name": "stderr",
     "output_type": "stream",
     "text": [
      "/Library/Frameworks/Python.framework/Versions/3.12/lib/python3.12/site-packages/joblib/externals/loky/process_executor.py:752: UserWarning: A worker stopped while some jobs were given to the executor. This can be caused by a too short worker timeout or by a memory leak.\n",
      "  warnings.warn(\n"
     ]
    },
    {
     "name": "stdout",
     "output_type": "stream",
     "text": [
      "Feature Combination: Index(['Baby', 'Bakery', 'Cleaning&Household_Supplies', 'Clothing&Accessory',\n",
      "       'ConvenienceFood&Appetizers', 'Drinks', 'Frozen_food',\n",
      "       'Fruits&Vegetables', 'Health', 'Healthy_Living', 'Hobby&Game',\n",
      "       'Home_Care', 'Icecream', 'Meat&Fish', 'Milk&Breakfast', 'Others',\n",
      "       'Personal_Care&Cosmetics', 'Pet', 'Snacks', 'Special_Days',\n",
      "       'Staple_Food', 'Technology', 'average_collection_time', 'is_holiday',\n",
      "       'is_vip', 'item_count', 'unique_category_count'],\n",
      "      dtype='object')\n",
      "R-squared: 0.3405\n",
      "RMSE: 2.0200\n",
      "MAE : 1.5948\n",
      "P_accuracy: Mean: 68.95%, Min: -58.35%, Max: 100.00%\n",
      "Best parameters: {'n_estimators': 300, 'min_samples_split': 5, 'min_samples_leaf': 4, 'max_features': 'sqrt', 'max_depth': 20}\n",
      "\n",
      "\n"
     ]
    },
    {
     "name": "stderr",
     "output_type": "stream",
     "text": [
      "/Library/Frameworks/Python.framework/Versions/3.12/lib/python3.12/site-packages/joblib/externals/loky/process_executor.py:752: UserWarning: A worker stopped while some jobs were given to the executor. This can be caused by a too short worker timeout or by a memory leak.\n",
      "  warnings.warn(\n"
     ]
    },
    {
     "name": "stdout",
     "output_type": "stream",
     "text": [
      "Feature Combination: Index(['Baby', 'Bakery', 'Cleaning&Household_Supplies', 'Clothing&Accessory',\n",
      "       'ConvenienceFood&Appetizers', 'Drinks', 'Frozen_food',\n",
      "       'Fruits&Vegetables', 'Health', 'Healthy_Living', 'Hobby&Game',\n",
      "       'Home_Care', 'Icecream', 'Meat&Fish', 'Milk&Breakfast', 'Others',\n",
      "       'Personal_Care&Cosmetics', 'Pet', 'Snacks', 'Special_Days',\n",
      "       'Staple_Food', 'Technology', 'average_collection_time', 'is_holiday',\n",
      "       'is_vip', 'item_count'],\n",
      "      dtype='object')\n",
      "R-squared: 0.3392\n",
      "RMSE: 2.0220\n",
      "MAE : 1.5959\n",
      "P_accuracy: Mean: 68.93%, Min: -67.44%, Max: 100.00%\n",
      "Best parameters: {'n_estimators': 300, 'min_samples_split': 5, 'min_samples_leaf': 4, 'max_features': 'sqrt', 'max_depth': 25}\n",
      "\n",
      "\n"
     ]
    },
    {
     "name": "stderr",
     "output_type": "stream",
     "text": [
      "/Library/Frameworks/Python.framework/Versions/3.12/lib/python3.12/site-packages/joblib/externals/loky/process_executor.py:752: UserWarning: A worker stopped while some jobs were given to the executor. This can be caused by a too short worker timeout or by a memory leak.\n",
      "  warnings.warn(\n"
     ]
    },
    {
     "name": "stdout",
     "output_type": "stream",
     "text": [
      "Feature Combination: Index(['Baby', 'Bakery', 'Cleaning&Household_Supplies', 'Clothing&Accessory',\n",
      "       'ConvenienceFood&Appetizers', 'Drinks', 'Frozen_food',\n",
      "       'Fruits&Vegetables', 'Health', 'Healthy_Living', 'Hobby&Game',\n",
      "       'Home_Care', 'Icecream', 'Meat&Fish', 'Milk&Breakfast', 'Others',\n",
      "       'Personal_Care&Cosmetics', 'Pet', 'Snacks', 'Special_Days',\n",
      "       'Staple_Food', 'Technology', 'is_holiday', 'is_vip', 'item_count'],\n",
      "      dtype='object')\n",
      "R-squared: 0.3404\n",
      "RMSE: 2.0201\n",
      "MAE : 1.5952\n",
      "P_accuracy: Mean: 68.86%, Min: -66.71%, Max: 100.00%\n",
      "Best parameters: {'n_estimators': 200, 'min_samples_split': 2, 'min_samples_leaf': 1, 'max_features': 'sqrt', 'max_depth': 15}\n",
      "\n",
      "\n"
     ]
    },
    {
     "name": "stderr",
     "output_type": "stream",
     "text": [
      "/Library/Frameworks/Python.framework/Versions/3.12/lib/python3.12/site-packages/joblib/externals/loky/process_executor.py:752: UserWarning: A worker stopped while some jobs were given to the executor. This can be caused by a too short worker timeout or by a memory leak.\n",
      "  warnings.warn(\n"
     ]
    },
    {
     "name": "stdout",
     "output_type": "stream",
     "text": [
      "Feature Combination: Index(['Baby', 'Bakery', 'Cleaning&Household_Supplies', 'Clothing&Accessory',\n",
      "       'ConvenienceFood&Appetizers', 'Drinks', 'Frozen_food',\n",
      "       'Fruits&Vegetables', 'Health', 'Healthy_Living', 'Hobby&Game',\n",
      "       'Home_Care', 'Icecream', 'Meat&Fish', 'Milk&Breakfast', 'Others',\n",
      "       'Personal_Care&Cosmetics', 'Pet', 'Snacks', 'Special_Days',\n",
      "       'Staple_Food', 'Technology', 'is_holiday', 'is_vip', 'item_count',\n",
      "       'unique_category_count'],\n",
      "      dtype='object')\n",
      "R-squared: 0.3397\n",
      "RMSE: 2.0212\n",
      "MAE : 1.5952\n",
      "P_accuracy: Mean: 68.94%, Min: -63.80%, Max: 100.00%\n",
      "Best parameters: {'n_estimators': 300, 'min_samples_split': 2, 'min_samples_leaf': 1, 'max_features': 'log2', 'max_depth': 20}\n",
      "\n",
      "\n"
     ]
    },
    {
     "name": "stderr",
     "output_type": "stream",
     "text": [
      "/Library/Frameworks/Python.framework/Versions/3.12/lib/python3.12/site-packages/joblib/externals/loky/process_executor.py:752: UserWarning: A worker stopped while some jobs were given to the executor. This can be caused by a too short worker timeout or by a memory leak.\n",
      "  warnings.warn(\n"
     ]
    },
    {
     "name": "stdout",
     "output_type": "stream",
     "text": [
      "Feature Combination: Index(['Baby', 'Bakery', 'Cleaning&Household_Supplies', 'Clothing&Accessory',\n",
      "       'ConvenienceFood&Appetizers', 'Drinks', 'Frozen_food',\n",
      "       'Fruits&Vegetables', 'Health', 'Healthy_Living', 'Hobby&Game',\n",
      "       'Home_Care', 'Icecream', 'Meat&Fish', 'Milk&Breakfast', 'Others',\n",
      "       'Personal_Care&Cosmetics', 'Pet', 'Snacks', 'Special_Days',\n",
      "       'Staple_Food', 'Technology', 'day', 'hour', 'is_holiday', 'is_vip',\n",
      "       'item_count', 'month', 'year'],\n",
      "      dtype='object')\n",
      "R-squared: 0.3448\n",
      "RMSE: 2.0134\n",
      "MAE : 1.5887\n",
      "P_accuracy: Mean: 69.05%, Min: -85.46%, Max: 100.00%\n",
      "Best parameters: {'n_estimators': 200, 'min_samples_split': 2, 'min_samples_leaf': 1, 'max_features': 'sqrt', 'max_depth': 20}\n",
      "\n",
      "\n"
     ]
    },
    {
     "name": "stderr",
     "output_type": "stream",
     "text": [
      "/Library/Frameworks/Python.framework/Versions/3.12/lib/python3.12/site-packages/joblib/externals/loky/process_executor.py:752: UserWarning: A worker stopped while some jobs were given to the executor. This can be caused by a too short worker timeout or by a memory leak.\n",
      "  warnings.warn(\n"
     ]
    },
    {
     "name": "stdout",
     "output_type": "stream",
     "text": [
      "Feature Combination: Index(['Baby', 'Bakery', 'Cleaning&Household_Supplies', 'Clothing&Accessory',\n",
      "       'ConvenienceFood&Appetizers', 'Drinks', 'Frozen_food',\n",
      "       'Fruits&Vegetables', 'Health', 'Healthy_Living', 'Hobby&Game',\n",
      "       'Home_Care', 'Icecream', 'Meat&Fish', 'Milk&Breakfast', 'Others',\n",
      "       'Personal_Care&Cosmetics', 'Pet', 'Snacks', 'Special_Days',\n",
      "       'Staple_Food', 'Technology', 'average_collection_time', 'day', 'hour',\n",
      "       'is_holiday', 'is_vip', 'item_count', 'month', 'year'],\n",
      "      dtype='object')\n",
      "R-squared: 0.3451\n",
      "RMSE: 2.0129\n",
      "MAE : 1.5891\n",
      "P_accuracy: Mean: 69.02%, Min: -75.09%, Max: 100.00%\n",
      "Best parameters: {'n_estimators': 200, 'min_samples_split': 5, 'min_samples_leaf': 4, 'max_features': 'sqrt', 'max_depth': 20}\n",
      "\n",
      "\n"
     ]
    },
    {
     "name": "stderr",
     "output_type": "stream",
     "text": [
      "/Library/Frameworks/Python.framework/Versions/3.12/lib/python3.12/site-packages/joblib/externals/loky/process_executor.py:752: UserWarning: A worker stopped while some jobs were given to the executor. This can be caused by a too short worker timeout or by a memory leak.\n",
      "  warnings.warn(\n"
     ]
    },
    {
     "name": "stdout",
     "output_type": "stream",
     "text": [
      "Feature Combination: Index(['Baby', 'Bakery', 'Cleaning&Household_Supplies', 'Clothing&Accessory',\n",
      "       'ConvenienceFood&Appetizers', 'Drinks', 'Frozen_food',\n",
      "       'Fruits&Vegetables', 'Health', 'Healthy_Living', 'Hobby&Game',\n",
      "       'Home_Care', 'Icecream', 'Meat&Fish', 'Milk&Breakfast', 'Others',\n",
      "       'Personal_Care&Cosmetics', 'Pet', 'Snacks', 'Special_Days',\n",
      "       'Staple_Food', 'Technology', 'day', 'hour', 'is_holiday', 'is_vip',\n",
      "       'item_count', 'month', 'unique_category_count', 'year'],\n",
      "      dtype='object')\n",
      "R-squared: 0.3456\n",
      "RMSE: 2.0123\n",
      "MAE : 1.5882\n",
      "P_accuracy: Mean: 69.07%, Min: -81.13%, Max: 100.00%\n",
      "Best parameters: {'n_estimators': 300, 'min_samples_split': 2, 'min_samples_leaf': 2, 'max_features': 'sqrt', 'max_depth': 20}\n",
      "\n",
      "\n"
     ]
    },
    {
     "name": "stderr",
     "output_type": "stream",
     "text": [
      "/Library/Frameworks/Python.framework/Versions/3.12/lib/python3.12/site-packages/joblib/externals/loky/process_executor.py:752: UserWarning: A worker stopped while some jobs were given to the executor. This can be caused by a too short worker timeout or by a memory leak.\n",
      "  warnings.warn(\n"
     ]
    },
    {
     "name": "stdout",
     "output_type": "stream",
     "text": [
      "Feature Combination: Index(['Baby', 'Bakery', 'Cleaning&Household_Supplies', 'Clothing&Accessory',\n",
      "       'ConvenienceFood&Appetizers', 'Drinks', 'Frozen_food',\n",
      "       'Fruits&Vegetables', 'Health', 'Healthy_Living', 'Hobby&Game',\n",
      "       'Home_Care', 'Icecream', 'Meat&Fish', 'Milk&Breakfast', 'Others',\n",
      "       'Personal_Care&Cosmetics', 'Pet', 'Snacks', 'Special_Days',\n",
      "       'Staple_Food', 'Technology', 'average_collection_time', 'day', 'hour',\n",
      "       'is_holiday', 'is_vip', 'item_count', 'month', 'unique_category_count',\n",
      "       'year'],\n",
      "      dtype='object')\n",
      "R-squared: 0.3449\n",
      "RMSE: 2.0133\n",
      "MAE : 1.5892\n",
      "P_accuracy: Mean: 69.05%, Min: -67.36%, Max: 100.00%\n",
      "Best parameters: {'n_estimators': 100, 'min_samples_split': 3, 'min_samples_leaf': 4, 'max_features': 'sqrt', 'max_depth': 20}\n",
      "\n",
      "\n"
     ]
    }
   ],
   "source": [
    "# Train and evaluate model for each feature combination\n",
    "for features in feature_combinations:\n",
    "    # Define features and target variable\n",
    "    X = df[features]\n",
    "    y = df['collection_duration']\n",
    "    \n",
    "    # Split df into train and test sets\n",
    "    X_train, X_test, y_train, y_test = train_test_split(X, y, test_size=0.20, random_state=42)\n",
    "\n",
    "    # Evaluate Random Forest model\n",
    "    rmse, mae, rsquared, p_accuracy, best_model, best_params = RandomForest_evaluate(X_train, X_test, y_train, y_test)\n",
    "\n",
    "    print(\"Feature Combination:\", features)\n",
    "    print(\"R-squared: %.4f\" % rsquared)\n",
    "    print(\"RMSE: %.4f\" % rmse)\n",
    "    print(\"MAE : %.4f\" % mae)\n",
    "    # Print P_accuracy\n",
    "    print(\"P_accuracy: Mean: %.2f%%, Min: %.2f%%, Max: %.2f%%\" % (np.mean(p_accuracy), np.min(p_accuracy), np.max(p_accuracy)))\n",
    "    print(\"Best parameters:\", best_params)\n",
    "    print(\"\\n\")"
   ]
  }
 ],
 "metadata": {
  "kernelspec": {
   "display_name": "Python 3",
   "language": "python",
   "name": "python3"
  },
  "language_info": {
   "codemirror_mode": {
    "name": "ipython",
    "version": 3
   },
   "file_extension": ".py",
   "mimetype": "text/x-python",
   "name": "python",
   "nbconvert_exporter": "python",
   "pygments_lexer": "ipython3",
   "version": "3.12.1"
  }
 },
 "nbformat": 4,
 "nbformat_minor": 2
}
