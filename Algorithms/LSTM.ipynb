{
 "cells": [
  {
   "cell_type": "code",
   "execution_count": 722,
   "metadata": {},
   "outputs": [],
   "source": [
    "import pandas as pd\n",
    "from sklearn.model_selection import train_test_split, RandomizedSearchCV\n",
    "from sklearn.preprocessing import MultiLabelBinarizer\n",
    "from tensorflow.keras.models import Sequential\n",
    "from tensorflow.keras.layers import LSTM, Dense, Dropout\n",
    "from sklearn.metrics import mean_absolute_error, root_mean_squared_error, r2_score\n",
    "import matplotlib.pyplot as plt\n",
    "import numpy as np\n",
    "import seaborn as sns\n",
    "from tensorflow.keras.callbacks import EarlyStopping, ModelCheckpoint"
   ]
  },
  {
   "cell_type": "code",
   "execution_count": 723,
   "metadata": {},
   "outputs": [],
   "source": [
    "df = pd.read_csv('../data/preprocessed/main-data.csv') \n",
    "\n",
    "# convert day to numerical\n",
    "df = pd.get_dummies(df, columns=['day'])\n",
    "# # One-hot encode categorical features (category_names)\n",
    "# mlb = MultiLabelBinarizer()\n",
    "# encoded_categories = mlb.fit_transform(df['category_names'].astype(str).apply(lambda x: x.split(',')))\n",
    "# encoded_categories_df = pd.DataFrame(encoded_categories, columns=mlb.classes_)\n",
    "# df = pd.concat([df, encoded_categories_df], axis=1)\n",
    "\n",
    "df.drop(['category_names'], axis=1, inplace=True)\n",
    "\n",
    "# Define features and target variable\n",
    "X = df[df.columns.difference(['collection_duration'])].astype(int)\n",
    "y = df['collection_duration']\n",
    "\n",
    "\n",
    "# # Reshape X for LSTM\n",
    "X = X.values.reshape(X.shape[0], 1, X.shape[1])\n"
   ]
  },
  {
   "cell_type": "code",
   "execution_count": 724,
   "metadata": {},
   "outputs": [
    {
     "data": {
      "text/plain": [
       "((1083890, 1, 245), (270973, 1, 245))"
      ]
     },
     "execution_count": 724,
     "metadata": {},
     "output_type": "execute_result"
    }
   ],
   "source": [
    "# Split df into train and test sets\n",
    "X_train, X_test, y_train, y_test = train_test_split(X, y, test_size=0.20, random_state=42)\n",
    "X_train.shape , X_test.shape"
   ]
  },
  {
   "cell_type": "code",
   "execution_count": 725,
   "metadata": {},
   "outputs": [
    {
     "data": {
      "text/plain": [
       "'If we want to use validation set do the following:\\nX_train, X_val, y_train, y_val = train_test_split(X_train, y_train, test_size=0.25, random_state=42)\\n'"
      ]
     },
     "execution_count": 725,
     "metadata": {},
     "output_type": "execute_result"
    }
   ],
   "source": [
    "# Split the training set into training and validation sets 60% training, 20% validation\n",
    "'''If we want to use validation set do the following:\n",
    "X_train, X_val, y_train, y_val = train_test_split(X_train, y_train, test_size=0.25, random_state=42)\n",
    "'''"
   ]
  },
  {
   "cell_type": "code",
   "execution_count": 726,
   "metadata": {},
   "outputs": [
    {
     "name": "stderr",
     "output_type": "stream",
     "text": [
      "/Library/Frameworks/Python.framework/Versions/3.12/lib/python3.12/site-packages/keras/src/layers/rnn/rnn.py:205: UserWarning: Do not pass an `input_shape`/`input_dim` argument to a layer. When using Sequential models, prefer using an `Input(shape)` object as the first layer in the model instead.\n",
      "  super().__init__(**kwargs)\n"
     ]
    },
    {
     "name": "stdout",
     "output_type": "stream",
     "text": [
      "Epoch 1/100\n",
      "\u001b[1m27098/27098\u001b[0m \u001b[32m━━━━━━━━━━━━━━━━━━━━\u001b[0m\u001b[37m\u001b[0m \u001b[1m17s\u001b[0m 590us/step - loss: 4.2890 - val_loss: 4.2220\n",
      "Epoch 2/100\n",
      "\u001b[1m27098/27098\u001b[0m \u001b[32m━━━━━━━━━━━━━━━━━━━━\u001b[0m\u001b[37m\u001b[0m \u001b[1m15s\u001b[0m 567us/step - loss: 3.8008 - val_loss: 4.0954\n",
      "Epoch 3/100\n",
      "\u001b[1m27098/27098\u001b[0m \u001b[32m━━━━━━━━━━━━━━━━━━━━\u001b[0m\u001b[37m\u001b[0m \u001b[1m15s\u001b[0m 566us/step - loss: 3.7923 - val_loss: 4.1637\n",
      "Epoch 4/100\n",
      "\u001b[1m27098/27098\u001b[0m \u001b[32m━━━━━━━━━━━━━━━━━━━━\u001b[0m\u001b[37m\u001b[0m \u001b[1m16s\u001b[0m 591us/step - loss: 3.7828 - val_loss: 4.1530\n",
      "Epoch 5/100\n",
      "\u001b[1m27098/27098\u001b[0m \u001b[32m━━━━━━━━━━━━━━━━━━━━\u001b[0m\u001b[37m\u001b[0m \u001b[1m15s\u001b[0m 570us/step - loss: 3.7825 - val_loss: 4.0738\n",
      "Epoch 6/100\n",
      "\u001b[1m27098/27098\u001b[0m \u001b[32m━━━━━━━━━━━━━━━━━━━━\u001b[0m\u001b[37m\u001b[0m \u001b[1m16s\u001b[0m 587us/step - loss: 3.7881 - val_loss: 4.1482\n",
      "Epoch 7/100\n",
      "\u001b[1m27098/27098\u001b[0m \u001b[32m━━━━━━━━━━━━━━━━━━━━\u001b[0m\u001b[37m\u001b[0m \u001b[1m16s\u001b[0m 577us/step - loss: 3.7805 - val_loss: 4.0586\n",
      "Epoch 8/100\n",
      "\u001b[1m27098/27098\u001b[0m \u001b[32m━━━━━━━━━━━━━━━━━━━━\u001b[0m\u001b[37m\u001b[0m \u001b[1m15s\u001b[0m 567us/step - loss: 3.7713 - val_loss: 4.1608\n",
      "Epoch 9/100\n",
      "\u001b[1m27098/27098\u001b[0m \u001b[32m━━━━━━━━━━━━━━━━━━━━\u001b[0m\u001b[37m\u001b[0m \u001b[1m15s\u001b[0m 569us/step - loss: 3.7710 - val_loss: 3.9559\n",
      "Epoch 10/100\n",
      "\u001b[1m27098/27098\u001b[0m \u001b[32m━━━━━━━━━━━━━━━━━━━━\u001b[0m\u001b[37m\u001b[0m \u001b[1m16s\u001b[0m 582us/step - loss: 3.7738 - val_loss: 4.1488\n",
      "Epoch 11/100\n",
      "\u001b[1m27098/27098\u001b[0m \u001b[32m━━━━━━━━━━━━━━━━━━━━\u001b[0m\u001b[37m\u001b[0m \u001b[1m16s\u001b[0m 578us/step - loss: 3.7661 - val_loss: 3.9970\n",
      "Epoch 12/100\n",
      "\u001b[1m27098/27098\u001b[0m \u001b[32m━━━━━━━━━━━━━━━━━━━━\u001b[0m\u001b[37m\u001b[0m \u001b[1m15s\u001b[0m 567us/step - loss: 3.7801 - val_loss: 4.0767\n",
      "Epoch 13/100\n",
      "\u001b[1m27098/27098\u001b[0m \u001b[32m━━━━━━━━━━━━━━━━━━━━\u001b[0m\u001b[37m\u001b[0m \u001b[1m16s\u001b[0m 576us/step - loss: 3.7718 - val_loss: 3.9879\n",
      "Epoch 14/100\n",
      "\u001b[1m27098/27098\u001b[0m \u001b[32m━━━━━━━━━━━━━━━━━━━━\u001b[0m\u001b[37m\u001b[0m \u001b[1m16s\u001b[0m 580us/step - loss: 3.7796 - val_loss: 3.9556\n",
      "Epoch 15/100\n",
      "\u001b[1m27098/27098\u001b[0m \u001b[32m━━━━━━━━━━━━━━━━━━━━\u001b[0m\u001b[37m\u001b[0m \u001b[1m16s\u001b[0m 577us/step - loss: 3.7666 - val_loss: 3.9741\n",
      "Epoch 16/100\n",
      "\u001b[1m27098/27098\u001b[0m \u001b[32m━━━━━━━━━━━━━━━━━━━━\u001b[0m\u001b[37m\u001b[0m \u001b[1m16s\u001b[0m 577us/step - loss: 3.7703 - val_loss: 4.0648\n",
      "Epoch 17/100\n",
      "\u001b[1m27098/27098\u001b[0m \u001b[32m━━━━━━━━━━━━━━━━━━━━\u001b[0m\u001b[37m\u001b[0m \u001b[1m16s\u001b[0m 573us/step - loss: 3.7653 - val_loss: 3.9385\n",
      "Epoch 18/100\n",
      "\u001b[1m27098/27098\u001b[0m \u001b[32m━━━━━━━━━━━━━━━━━━━━\u001b[0m\u001b[37m\u001b[0m \u001b[1m16s\u001b[0m 579us/step - loss: 3.7672 - val_loss: 3.9455\n",
      "Epoch 19/100\n",
      "\u001b[1m27098/27098\u001b[0m \u001b[32m━━━━━━━━━━━━━━━━━━━━\u001b[0m\u001b[37m\u001b[0m \u001b[1m16s\u001b[0m 574us/step - loss: 3.7554 - val_loss: 4.1283\n",
      "Epoch 20/100\n",
      "\u001b[1m27098/27098\u001b[0m \u001b[32m━━━━━━━━━━━━━━━━━━━━\u001b[0m\u001b[37m\u001b[0m \u001b[1m16s\u001b[0m 577us/step - loss: 3.7559 - val_loss: 4.0248\n",
      "Epoch 21/100\n",
      "\u001b[1m27098/27098\u001b[0m \u001b[32m━━━━━━━━━━━━━━━━━━━━\u001b[0m\u001b[37m\u001b[0m \u001b[1m16s\u001b[0m 591us/step - loss: 3.7562 - val_loss: 4.0239\n",
      "Epoch 22/100\n",
      "\u001b[1m27098/27098\u001b[0m \u001b[32m━━━━━━━━━━━━━━━━━━━━\u001b[0m\u001b[37m\u001b[0m \u001b[1m15s\u001b[0m 571us/step - loss: 3.7664 - val_loss: 3.9254\n",
      "Epoch 23/100\n",
      "\u001b[1m27098/27098\u001b[0m \u001b[32m━━━━━━━━━━━━━━━━━━━━\u001b[0m\u001b[37m\u001b[0m \u001b[1m16s\u001b[0m 583us/step - loss: 3.7610 - val_loss: 4.0830\n",
      "Epoch 24/100\n",
      "\u001b[1m27098/27098\u001b[0m \u001b[32m━━━━━━━━━━━━━━━━━━━━\u001b[0m\u001b[37m\u001b[0m \u001b[1m16s\u001b[0m 589us/step - loss: 3.7540 - val_loss: 4.0284\n",
      "Epoch 25/100\n",
      "\u001b[1m27098/27098\u001b[0m \u001b[32m━━━━━━━━━━━━━━━━━━━━\u001b[0m\u001b[37m\u001b[0m \u001b[1m16s\u001b[0m 576us/step - loss: 3.7586 - val_loss: 4.0695\n",
      "Epoch 26/100\n",
      "\u001b[1m27098/27098\u001b[0m \u001b[32m━━━━━━━━━━━━━━━━━━━━\u001b[0m\u001b[37m\u001b[0m \u001b[1m16s\u001b[0m 579us/step - loss: 3.7574 - val_loss: 4.0948\n",
      "Epoch 27/100\n",
      "\u001b[1m27098/27098\u001b[0m \u001b[32m━━━━━━━━━━━━━━━━━━━━\u001b[0m\u001b[37m\u001b[0m \u001b[1m16s\u001b[0m 576us/step - loss: 3.7468 - val_loss: 4.0713\n",
      "Epoch 28/100\n",
      "\u001b[1m27098/27098\u001b[0m \u001b[32m━━━━━━━━━━━━━━━━━━━━\u001b[0m\u001b[37m\u001b[0m \u001b[1m16s\u001b[0m 582us/step - loss: 3.7608 - val_loss: 3.9272\n",
      "Epoch 29/100\n",
      "\u001b[1m27098/27098\u001b[0m \u001b[32m━━━━━━━━━━━━━━━━━━━━\u001b[0m\u001b[37m\u001b[0m \u001b[1m16s\u001b[0m 593us/step - loss: 3.7592 - val_loss: 3.9764\n",
      "Epoch 30/100\n",
      "\u001b[1m27098/27098\u001b[0m \u001b[32m━━━━━━━━━━━━━━━━━━━━\u001b[0m\u001b[37m\u001b[0m \u001b[1m16s\u001b[0m 574us/step - loss: 3.7462 - val_loss: 3.9286\n",
      "Epoch 31/100\n",
      "\u001b[1m27098/27098\u001b[0m \u001b[32m━━━━━━━━━━━━━━━━━━━━\u001b[0m\u001b[37m\u001b[0m \u001b[1m16s\u001b[0m 583us/step - loss: 3.7575 - val_loss: 3.9060\n",
      "Epoch 32/100\n",
      "\u001b[1m27098/27098\u001b[0m \u001b[32m━━━━━━━━━━━━━━━━━━━━\u001b[0m\u001b[37m\u001b[0m \u001b[1m16s\u001b[0m 578us/step - loss: 3.7590 - val_loss: 4.0439\n",
      "Epoch 33/100\n",
      "\u001b[1m27098/27098\u001b[0m \u001b[32m━━━━━━━━━━━━━━━━━━━━\u001b[0m\u001b[37m\u001b[0m \u001b[1m16s\u001b[0m 581us/step - loss: 3.7556 - val_loss: 3.9841\n",
      "Epoch 34/100\n",
      "\u001b[1m27098/27098\u001b[0m \u001b[32m━━━━━━━━━━━━━━━━━━━━\u001b[0m\u001b[37m\u001b[0m \u001b[1m16s\u001b[0m 596us/step - loss: 3.7565 - val_loss: 3.9277\n",
      "Epoch 35/100\n",
      "\u001b[1m27098/27098\u001b[0m \u001b[32m━━━━━━━━━━━━━━━━━━━━\u001b[0m\u001b[37m\u001b[0m \u001b[1m16s\u001b[0m 582us/step - loss: 3.7510 - val_loss: 4.0540\n",
      "Epoch 36/100\n",
      "\u001b[1m27098/27098\u001b[0m \u001b[32m━━━━━━━━━━━━━━━━━━━━\u001b[0m\u001b[37m\u001b[0m \u001b[1m16s\u001b[0m 583us/step - loss: 3.7599 - val_loss: 4.0343\n",
      "Epoch 37/100\n",
      "\u001b[1m27098/27098\u001b[0m \u001b[32m━━━━━━━━━━━━━━━━━━━━\u001b[0m\u001b[37m\u001b[0m \u001b[1m16s\u001b[0m 579us/step - loss: 3.7544 - val_loss: 3.9775\n",
      "Epoch 38/100\n",
      "\u001b[1m27098/27098\u001b[0m \u001b[32m━━━━━━━━━━━━━━━━━━━━\u001b[0m\u001b[37m\u001b[0m \u001b[1m16s\u001b[0m 592us/step - loss: 3.7441 - val_loss: 3.9365\n",
      "Epoch 39/100\n",
      "\u001b[1m27098/27098\u001b[0m \u001b[32m━━━━━━━━━━━━━━━━━━━━\u001b[0m\u001b[37m\u001b[0m \u001b[1m16s\u001b[0m 591us/step - loss: 3.7555 - val_loss: 3.9471\n",
      "Epoch 40/100\n",
      "\u001b[1m27098/27098\u001b[0m \u001b[32m━━━━━━━━━━━━━━━━━━━━\u001b[0m\u001b[37m\u001b[0m \u001b[1m16s\u001b[0m 593us/step - loss: 3.7414 - val_loss: 3.9054\n",
      "Epoch 41/100\n",
      "\u001b[1m27098/27098\u001b[0m \u001b[32m━━━━━━━━━━━━━━━━━━━━\u001b[0m\u001b[37m\u001b[0m \u001b[1m16s\u001b[0m 587us/step - loss: 3.7611 - val_loss: 3.9971\n",
      "Epoch 42/100\n",
      "\u001b[1m27098/27098\u001b[0m \u001b[32m━━━━━━━━━━━━━━━━━━━━\u001b[0m\u001b[37m\u001b[0m \u001b[1m16s\u001b[0m 588us/step - loss: 3.7572 - val_loss: 3.9392\n",
      "Epoch 43/100\n",
      "\u001b[1m27098/27098\u001b[0m \u001b[32m━━━━━━━━━━━━━━━━━━━━\u001b[0m\u001b[37m\u001b[0m \u001b[1m16s\u001b[0m 589us/step - loss: 3.7480 - val_loss: 3.9031\n",
      "Epoch 44/100\n",
      "\u001b[1m27098/27098\u001b[0m \u001b[32m━━━━━━━━━━━━━━━━━━━━\u001b[0m\u001b[37m\u001b[0m \u001b[1m16s\u001b[0m 583us/step - loss: 3.7504 - val_loss: 4.0149\n",
      "Epoch 45/100\n",
      "\u001b[1m27098/27098\u001b[0m \u001b[32m━━━━━━━━━━━━━━━━━━━━\u001b[0m\u001b[37m\u001b[0m \u001b[1m16s\u001b[0m 589us/step - loss: 3.7545 - val_loss: 3.9920\n",
      "Epoch 46/100\n",
      "\u001b[1m27098/27098\u001b[0m \u001b[32m━━━━━━━━━━━━━━━━━━━━\u001b[0m\u001b[37m\u001b[0m \u001b[1m16s\u001b[0m 588us/step - loss: 3.7534 - val_loss: 3.9186\n",
      "Epoch 47/100\n",
      "\u001b[1m27098/27098\u001b[0m \u001b[32m━━━━━━━━━━━━━━━━━━━━\u001b[0m\u001b[37m\u001b[0m \u001b[1m16s\u001b[0m 589us/step - loss: 3.7481 - val_loss: 3.8990\n",
      "Epoch 48/100\n",
      "\u001b[1m27098/27098\u001b[0m \u001b[32m━━━━━━━━━━━━━━━━━━━━\u001b[0m\u001b[37m\u001b[0m \u001b[1m16s\u001b[0m 585us/step - loss: 3.7386 - val_loss: 3.9795\n",
      "Epoch 49/100\n",
      "\u001b[1m27098/27098\u001b[0m \u001b[32m━━━━━━━━━━━━━━━━━━━━\u001b[0m\u001b[37m\u001b[0m \u001b[1m16s\u001b[0m 586us/step - loss: 3.7487 - val_loss: 3.9356\n",
      "Epoch 50/100\n",
      "\u001b[1m27098/27098\u001b[0m \u001b[32m━━━━━━━━━━━━━━━━━━━━\u001b[0m\u001b[37m\u001b[0m \u001b[1m16s\u001b[0m 588us/step - loss: 3.7571 - val_loss: 3.8980\n",
      "Epoch 51/100\n",
      "\u001b[1m27098/27098\u001b[0m \u001b[32m━━━━━━━━━━━━━━━━━━━━\u001b[0m\u001b[37m\u001b[0m \u001b[1m15s\u001b[0m 571us/step - loss: 3.7509 - val_loss: 3.8996\n",
      "Epoch 52/100\n",
      "\u001b[1m27098/27098\u001b[0m \u001b[32m━━━━━━━━━━━━━━━━━━━━\u001b[0m\u001b[37m\u001b[0m \u001b[1m15s\u001b[0m 567us/step - loss: 3.7590 - val_loss: 3.9742\n",
      "Epoch 53/100\n",
      "\u001b[1m27098/27098\u001b[0m \u001b[32m━━━━━━━━━━━━━━━━━━━━\u001b[0m\u001b[37m\u001b[0m \u001b[1m15s\u001b[0m 567us/step - loss: 3.7468 - val_loss: 3.9120\n",
      "Epoch 54/100\n",
      "\u001b[1m27098/27098\u001b[0m \u001b[32m━━━━━━━━━━━━━━━━━━━━\u001b[0m\u001b[37m\u001b[0m \u001b[1m16s\u001b[0m 587us/step - loss: 3.7378 - val_loss: 3.9876\n",
      "Epoch 55/100\n",
      "\u001b[1m27098/27098\u001b[0m \u001b[32m━━━━━━━━━━━━━━━━━━━━\u001b[0m\u001b[37m\u001b[0m \u001b[1m16s\u001b[0m 597us/step - loss: 3.7329 - val_loss: 4.0298\n",
      "Epoch 56/100\n",
      "\u001b[1m27098/27098\u001b[0m \u001b[32m━━━━━━━━━━━━━━━━━━━━\u001b[0m\u001b[37m\u001b[0m \u001b[1m16s\u001b[0m 594us/step - loss: 3.7346 - val_loss: 3.9848\n",
      "Epoch 57/100\n",
      "\u001b[1m27098/27098\u001b[0m \u001b[32m━━━━━━━━━━━━━━━━━━━━\u001b[0m\u001b[37m\u001b[0m \u001b[1m16s\u001b[0m 591us/step - loss: 3.7366 - val_loss: 3.8729\n",
      "Epoch 58/100\n",
      "\u001b[1m27098/27098\u001b[0m \u001b[32m━━━━━━━━━━━━━━━━━━━━\u001b[0m\u001b[37m\u001b[0m \u001b[1m16s\u001b[0m 573us/step - loss: 3.7367 - val_loss: 3.9296\n",
      "Epoch 59/100\n",
      "\u001b[1m27098/27098\u001b[0m \u001b[32m━━━━━━━━━━━━━━━━━━━━\u001b[0m\u001b[37m\u001b[0m \u001b[1m15s\u001b[0m 565us/step - loss: 3.7364 - val_loss: 4.0006\n",
      "Epoch 60/100\n",
      "\u001b[1m27098/27098\u001b[0m \u001b[32m━━━━━━━━━━━━━━━━━━━━\u001b[0m\u001b[37m\u001b[0m \u001b[1m15s\u001b[0m 571us/step - loss: 3.7491 - val_loss: 3.9606\n",
      "Epoch 61/100\n",
      "\u001b[1m27098/27098\u001b[0m \u001b[32m━━━━━━━━━━━━━━━━━━━━\u001b[0m\u001b[37m\u001b[0m \u001b[1m16s\u001b[0m 593us/step - loss: 3.7328 - val_loss: 3.8908\n",
      "Epoch 62/100\n",
      "\u001b[1m27098/27098\u001b[0m \u001b[32m━━━━━━━━━━━━━━━━━━━━\u001b[0m\u001b[37m\u001b[0m \u001b[1m16s\u001b[0m 584us/step - loss: 3.7451 - val_loss: 3.9512\n",
      "Epoch 63/100\n",
      "\u001b[1m27098/27098\u001b[0m \u001b[32m━━━━━━━━━━━━━━━━━━━━\u001b[0m\u001b[37m\u001b[0m \u001b[1m16s\u001b[0m 576us/step - loss: 3.7458 - val_loss: 3.9708\n",
      "Epoch 64/100\n",
      "\u001b[1m27098/27098\u001b[0m \u001b[32m━━━━━━━━━━━━━━━━━━━━\u001b[0m\u001b[37m\u001b[0m \u001b[1m15s\u001b[0m 567us/step - loss: 3.7507 - val_loss: 3.9062\n",
      "Epoch 65/100\n",
      "\u001b[1m27098/27098\u001b[0m \u001b[32m━━━━━━━━━━━━━━━━━━━━\u001b[0m\u001b[37m\u001b[0m \u001b[1m16s\u001b[0m 589us/step - loss: 3.7389 - val_loss: 3.9462\n",
      "Epoch 66/100\n",
      "\u001b[1m27098/27098\u001b[0m \u001b[32m━━━━━━━━━━━━━━━━━━━━\u001b[0m\u001b[37m\u001b[0m \u001b[1m15s\u001b[0m 569us/step - loss: 3.7382 - val_loss: 4.0340\n",
      "Epoch 67/100\n",
      "\u001b[1m27098/27098\u001b[0m \u001b[32m━━━━━━━━━━━━━━━━━━━━\u001b[0m\u001b[37m\u001b[0m \u001b[1m16s\u001b[0m 591us/step - loss: 3.7382 - val_loss: 4.0230\n",
      "Epoch 68/100\n",
      "\u001b[1m27098/27098\u001b[0m \u001b[32m━━━━━━━━━━━━━━━━━━━━\u001b[0m\u001b[37m\u001b[0m \u001b[1m17s\u001b[0m 609us/step - loss: 3.7462 - val_loss: 3.9720\n",
      "Epoch 69/100\n",
      "\u001b[1m27098/27098\u001b[0m \u001b[32m━━━━━━━━━━━━━━━━━━━━\u001b[0m\u001b[37m\u001b[0m \u001b[1m16s\u001b[0m 582us/step - loss: 3.7318 - val_loss: 3.8572\n",
      "Epoch 70/100\n",
      "\u001b[1m27098/27098\u001b[0m \u001b[32m━━━━━━━━━━━━━━━━━━━━\u001b[0m\u001b[37m\u001b[0m \u001b[1m16s\u001b[0m 585us/step - loss: 3.7387 - val_loss: 3.9591\n",
      "Epoch 71/100\n",
      "\u001b[1m27098/27098\u001b[0m \u001b[32m━━━━━━━━━━━━━━━━━━━━\u001b[0m\u001b[37m\u001b[0m \u001b[1m16s\u001b[0m 590us/step - loss: 3.7312 - val_loss: 3.8936\n",
      "Epoch 72/100\n",
      "\u001b[1m27098/27098\u001b[0m \u001b[32m━━━━━━━━━━━━━━━━━━━━\u001b[0m\u001b[37m\u001b[0m \u001b[1m16s\u001b[0m 587us/step - loss: 3.7345 - val_loss: 3.9310\n",
      "Epoch 73/100\n",
      "\u001b[1m27098/27098\u001b[0m \u001b[32m━━━━━━━━━━━━━━━━━━━━\u001b[0m\u001b[37m\u001b[0m \u001b[1m15s\u001b[0m 567us/step - loss: 3.7352 - val_loss: 3.8671\n",
      "Epoch 74/100\n",
      "\u001b[1m27098/27098\u001b[0m \u001b[32m━━━━━━━━━━━━━━━━━━━━\u001b[0m\u001b[37m\u001b[0m \u001b[1m16s\u001b[0m 588us/step - loss: 3.7300 - val_loss: 3.9436\n",
      "Epoch 75/100\n",
      "\u001b[1m27098/27098\u001b[0m \u001b[32m━━━━━━━━━━━━━━━━━━━━\u001b[0m\u001b[37m\u001b[0m \u001b[1m16s\u001b[0m 594us/step - loss: 3.7313 - val_loss: 3.9365\n",
      "Epoch 76/100\n",
      "\u001b[1m27098/27098\u001b[0m \u001b[32m━━━━━━━━━━━━━━━━━━━━\u001b[0m\u001b[37m\u001b[0m \u001b[1m16s\u001b[0m 581us/step - loss: 3.7394 - val_loss: 3.9687\n",
      "Epoch 77/100\n",
      "\u001b[1m27098/27098\u001b[0m \u001b[32m━━━━━━━━━━━━━━━━━━━━\u001b[0m\u001b[37m\u001b[0m \u001b[1m16s\u001b[0m 584us/step - loss: 3.7271 - val_loss: 3.9712\n",
      "Epoch 78/100\n",
      "\u001b[1m27098/27098\u001b[0m \u001b[32m━━━━━━━━━━━━━━━━━━━━\u001b[0m\u001b[37m\u001b[0m \u001b[1m17s\u001b[0m 609us/step - loss: 3.7370 - val_loss: 3.9906\n",
      "Epoch 79/100\n",
      "\u001b[1m27098/27098\u001b[0m \u001b[32m━━━━━━━━━━━━━━━━━━━━\u001b[0m\u001b[37m\u001b[0m \u001b[1m16s\u001b[0m 583us/step - loss: 3.7391 - val_loss: 4.1113\n",
      "Epoch 80/100\n",
      "\u001b[1m27098/27098\u001b[0m \u001b[32m━━━━━━━━━━━━━━━━━━━━\u001b[0m\u001b[37m\u001b[0m \u001b[1m16s\u001b[0m 576us/step - loss: 3.7428 - val_loss: 4.0167\n",
      "Epoch 81/100\n",
      "\u001b[1m27098/27098\u001b[0m \u001b[32m━━━━━━━━━━━━━━━━━━━━\u001b[0m\u001b[37m\u001b[0m \u001b[1m16s\u001b[0m 580us/step - loss: 3.7352 - val_loss: 3.9595\n",
      "Epoch 82/100\n",
      "\u001b[1m27098/27098\u001b[0m \u001b[32m━━━━━━━━━━━━━━━━━━━━\u001b[0m\u001b[37m\u001b[0m \u001b[1m16s\u001b[0m 583us/step - loss: 3.7463 - val_loss: 3.9868\n",
      "Epoch 83/100\n",
      "\u001b[1m27098/27098\u001b[0m \u001b[32m━━━━━━━━━━━━━━━━━━━━\u001b[0m\u001b[37m\u001b[0m \u001b[1m16s\u001b[0m 581us/step - loss: 3.7290 - val_loss: 3.8926\n",
      "Epoch 84/100\n",
      "\u001b[1m27098/27098\u001b[0m \u001b[32m━━━━━━━━━━━━━━━━━━━━\u001b[0m\u001b[37m\u001b[0m \u001b[1m17s\u001b[0m 617us/step - loss: 3.7265 - val_loss: 3.9069\n",
      "Epoch 85/100\n",
      "\u001b[1m27098/27098\u001b[0m \u001b[32m━━━━━━━━━━━━━━━━━━━━\u001b[0m\u001b[37m\u001b[0m \u001b[1m16s\u001b[0m 583us/step - loss: 3.7424 - val_loss: 3.8943\n",
      "Epoch 86/100\n",
      "\u001b[1m27098/27098\u001b[0m \u001b[32m━━━━━━━━━━━━━━━━━━━━\u001b[0m\u001b[37m\u001b[0m \u001b[1m17s\u001b[0m 627us/step - loss: 3.7444 - val_loss: 4.0015\n",
      "Epoch 87/100\n",
      "\u001b[1m27098/27098\u001b[0m \u001b[32m━━━━━━━━━━━━━━━━━━━━\u001b[0m\u001b[37m\u001b[0m \u001b[1m17s\u001b[0m 616us/step - loss: 3.7323 - val_loss: 3.8924\n",
      "Epoch 88/100\n",
      "\u001b[1m27098/27098\u001b[0m \u001b[32m━━━━━━━━━━━━━━━━━━━━\u001b[0m\u001b[37m\u001b[0m \u001b[1m16s\u001b[0m 603us/step - loss: 3.7275 - val_loss: 3.9446\n",
      "Epoch 89/100\n",
      "\u001b[1m27098/27098\u001b[0m \u001b[32m━━━━━━━━━━━━━━━━━━━━\u001b[0m\u001b[37m\u001b[0m \u001b[1m16s\u001b[0m 606us/step - loss: 3.7348 - val_loss: 3.8740\n",
      "\u001b[1m8468/8468\u001b[0m \u001b[32m━━━━━━━━━━━━━━━━━━━━\u001b[0m\u001b[37m\u001b[0m \u001b[1m2s\u001b[0m 235us/step - loss: 3.8576\n",
      "Loss: 3.8789970874786377\n",
      "\u001b[1m8468/8468\u001b[0m \u001b[32m━━━━━━━━━━━━━━━━━━━━\u001b[0m\u001b[37m\u001b[0m \u001b[1m2s\u001b[0m 268us/step\n"
     ]
    }
   ],
   "source": [
    "# Define the LSTM model\n",
    "model = Sequential()\n",
    "model.add(LSTM(32, activation='relu', input_shape=(1, X_train.shape[2])))\n",
    "model.add(Dropout(0.2))\n",
    "model.add(Dense(32, activation='relu'))\n",
    "model.add(Dense(1))\n",
    "\n",
    "# Compile the model\n",
    "model.compile(loss='mean_squared_error', optimizer='adam')\n",
    "\n",
    "# Define the EarlyStopping callback\n",
    "early_stopping = EarlyStopping(monitor='val_loss', patience=20)\n",
    "\n",
    "# Train the model with EarlyStopping\n",
    "history = model.fit(X_train, y_train, epochs=100, batch_size=32, validation_split=0.2, callbacks=[early_stopping])\n",
    "\n",
    "# Evaluate the model\n",
    "loss = model.evaluate(X_test, y_test)\n",
    "print(\"Loss:\", loss)\n",
    "\n",
    "predictions = model.predict(X_test)"
   ]
  },
  {
   "cell_type": "code",
   "execution_count": 728,
   "metadata": {},
   "outputs": [
    {
     "name": "stdout",
     "output_type": "stream",
     "text": [
      "RMSE: 1.9695180216303245\n",
      "MAE: 1.5327741404127773\n",
      "R^2: 0.35539032155751427\n",
      "P_accuracy: Mean: 70.64%, Min: -95.15%, Max: 100.00%\n"
     ]
    }
   ],
   "source": [
    "# Evaluate predictions\n",
    "rmse = root_mean_squared_error(y_test, predictions)\n",
    "mae = mean_absolute_error(y_test, predictions)\n",
    "rsquared = r2_score(y_test, predictions)\n",
    "\n",
    "print(\"RMSE:\", rmse)\n",
    "print(\"MAE:\", mae)\n",
    "print(\"R^2:\", rsquared)\n",
    "p_accuracy = [(1 - np.abs(pred - actual) / actual) * 100 for pred, actual in zip(predictions, y_test)]\n",
    "\n",
    "# Print P_accuracy\n",
    "print(\"P_accuracy: Mean: %.2f%%, Min: %.2f%%, Max: %.2f%%\" % (np.mean(p_accuracy), np.min(p_accuracy), np.max(p_accuracy)))"
   ]
  },
  {
   "cell_type": "code",
   "execution_count": 729,
   "metadata": {},
   "outputs": [
    {
     "name": "stdout",
     "output_type": "stream",
     "text": [
      "Minimum P_accuracy: -95.154274 %\n",
      "Corresponding Prediction: 4.593483\n",
      "Corresponding Actual Value: 1.5562989605082238\n"
     ]
    }
   ],
   "source": [
    "min_index = np.argmin(p_accuracy)\n",
    "max_index = np.argmax(p_accuracy)\n",
    "min_p_accuracy = p_accuracy[min_index]\n",
    "corresponding_pred = predictions[min_index,0]\n",
    "corresponding_actual = y_test.iloc[min_index]\n",
    "\n",
    "print(\"Minimum P_accuracy:\", min_p_accuracy[0],\"%\")\n",
    "print(\"Corresponding Prediction:\", corresponding_pred)\n",
    "print(\"Corresponding Actual Value:\", corresponding_actual)"
   ]
  },
  {
   "cell_type": "code",
   "execution_count": 730,
   "metadata": {},
   "outputs": [
    {
     "name": "stdout",
     "output_type": "stream",
     "text": [
      "The total 268305 values are greater than 0%.\n",
      "The total 2668 values are less than 0%.\n"
     ]
    }
   ],
   "source": [
    "less_than_zero = [p_acc for p_acc in p_accuracy if p_acc < 0]\n",
    "more_than_zero = [p_acc for p_acc in p_accuracy if p_acc > 0]\n",
    "\n",
    "count_less_than_zero = len(less_than_zero)\n",
    "count_more_than_zero = len(more_than_zero)\n",
    "\n",
    "print(f\"The total {count_more_than_zero} values are greater than 0%.\")\n",
    "print(f\"The total {count_less_than_zero} values are less than 0%.\")"
   ]
  },
  {
   "cell_type": "code",
   "execution_count": 731,
   "metadata": {},
   "outputs": [
    {
     "data": {
      "image/png": "[encoded data removed]",
      "text/plain": [
       "<Figure size 640x480 with 1 Axes>"
      ]
     },
     "metadata": {},
     "output_type": "display_data"
    }
   ],
   "source": [
    "# Plot the distribution of predicted values\n",
    "\n",
    "sns.histplot(predictions, alpha=0.5, label='Predicted')\n",
    "sns.histplot(y_test, alpha=0.5, label='Actual')\n",
    "\n",
    "plt.xlabel('Collection Duration')\n",
    "plt.ylabel('Frequency')\n",
    "plt.title('Distribution of Predicted and Actual Collection Durations')\n",
    "plt.legend()\n",
    "plt.show()"
   ]
  },
  {
   "cell_type": "code",
   "execution_count": 732,
   "metadata": {},
   "outputs": [
    {
     "data": {
      "image/png": "[encoded data removed]",
      "text/plain": [
       "<Figure size 1000x600 with 1 Axes>"
      ]
     },
     "metadata": {},
     "output_type": "display_data"
    },
    {
     "name": "stdout",
     "output_type": "stream",
     "text": [
      "----------------------------------------------------------------------------------------\n",
      "Interval: [-110%, -100%] - Frequency: 0\n",
      "Interval: [-100%, -90%] - Frequency: 2\n",
      "Interval: [-90%, -80%] - Frequency: 0\n",
      "Interval: [-80%, -70%] - Frequency: 2\n",
      "Interval: [-70%, -60%] - Frequency: 4\n",
      "Interval: [-60%, -50%] - Frequency: 31\n",
      "Interval: [-50%, -40%] - Frequency: 261\n",
      "Interval: [-40%, -30%] - Frequency: 439\n",
      "Interval: [-30%, -20%] - Frequency: 525\n",
      "Interval: [-20%, -10%] - Frequency: 632\n",
      "Interval: [-10%, 0%] - Frequency: 772\n",
      "Interval: [0%, 10%] - Frequency: 1518\n",
      "Interval: [10%, 20%] - Frequency: 5007\n",
      "Interval: [20%, 30%] - Frequency: 9168\n",
      "Interval: [30%, 40%] - Frequency: 10820\n",
      "Interval: [40%, 50%] - Frequency: 15176\n",
      "Interval: [50%, 60%] - Frequency: 26851\n",
      "Interval: [60%, 70%] - Frequency: 34872\n",
      "Interval: [70%, 80%] - Frequency: 53644\n",
      "Interval: [80%, 90%] - Frequency: 55909\n",
      "Interval: [90%, 100%] - Frequency: 55340\n"
     ]
    }
   ],
   "source": [
    "#Scatter plots showing the frequency similarity from –100 to 100 by 10 percent intervals\n",
    "\n",
    "# Define the intervals\n",
    "intervals = np.arange(-110, 110, 10)\n",
    "\n",
    "# Count the frequency of p_accuracy within each interval\n",
    "frequency = []\n",
    "for i in range(len(intervals)-1):\n",
    "    count = ((p_accuracy >= intervals[i]) & (p_accuracy < intervals[i+1])).sum()\n",
    "    frequency.append(count)\n",
    "\n",
    "# Plotting\n",
    "plt.figure(figsize=(10, 6))\n",
    "plt.bar(np.arange(len(intervals)-1), frequency, align='center', alpha=0.7)\n",
    "plt.xticks(np.arange(len(intervals)-1), intervals[:-1])\n",
    "plt.xlabel('P_accuracy Intervals')\n",
    "plt.ylabel('Frequency')\n",
    "plt.title('Frequency of P_accuracy Rates')\n",
    "plt.grid(True)\n",
    "plt.show()\n",
    "print(\"----------------------------------------------------------------------------------------\")\n",
    "for i in range(len(intervals)-1):\n",
    "    print(\"Interval: [%d%%, %d%%] - Frequency: %d\" % (intervals[i], intervals[i+1], frequency[i]))"
   ]
  }
 ],
 "metadata": {
  "kernelspec": {
   "display_name": "Python 3",
   "language": "python",
   "name": "python3"
  },
  "language_info": {
   "codemirror_mode": {
    "name": "ipython",
    "version": 3
   },
   "file_extension": ".py",
   "mimetype": "text/x-python",
   "name": "python",
   "nbconvert_exporter": "python",
   "pygments_lexer": "ipython3",
   "version": "3.12.1"
  }
 },
 "nbformat": 4,
 "nbformat_minor": 2
}
